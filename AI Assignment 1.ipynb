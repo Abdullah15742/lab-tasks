{
  "nbformat": 4,
  "nbformat_minor": 0,
  "metadata": {
    "colab": {
      "provenance": []
    },
    "kernelspec": {
      "name": "python3",
      "display_name": "Python 3"
    },
    "language_info": {
      "name": "python"
    }
  },
  "cells": [
    {
      "cell_type": "code",
      "execution_count": 16,
      "metadata": {
        "colab": {
          "base_uri": "https://localhost:8080/"
        },
        "id": "0SV3wqsc14jL",
        "outputId": "e13e134f-2728-4820-c3cd-aaaa78638d18"
      },
      "outputs": [
        {
          "output_type": "stream",
          "name": "stdout",
          "text": [
            "dict_items([('name', 'Abdullah Shah'), ('age', 21), ('roll_number', 'SP23-BCS-101'), ('grade', 'A')])\n",
            "Updated Student Info: {'name': 'Abdullah Shah', 'age': 21, 'grade': 'B+', 'email': 'sabdullah15742@gmail.com'}\n"
          ]
        }
      ],
      "source": [
        "# Task 2 - Dictionary Operations\n",
        "\n",
        "student = {\n",
        "    \"name\": \"Abdullah Shah\",\n",
        "    \"age\": 21,\n",
        "    \"roll_number\": \"SP23-BCS-101\",\n",
        "    \"grade\": \"A\"\n",
        "}\n",
        "\n",
        "# 1. Print keys and values\n",
        "print(student.items())\n",
        "\n",
        "# 2. Update grade\n",
        "student[\"grade\"] = \"B+\"\n",
        "\n",
        "# 3. Add email\n",
        "student[\"email\"] = \"sabdullah15742@gmail.com\"\n",
        "\n",
        "# 4. Delete roll_number\n",
        "del student[\"roll_number\"]\n",
        "\n",
        "print(\"Updated Student Info:\", student)"
      ]
    },
    {
      "cell_type": "code",
      "source": [
        "from collections import deque\n",
        "\n",
        "# BFS and DFS on a Graph\n",
        "graph = {\n",
        "    'A': ['B', 'C'],\n",
        "    'B': ['D', 'E'],\n",
        "    'C': ['F'],\n",
        "    'D': [],\n",
        "    'E': ['F'],\n",
        "    'F': []\n",
        "}\n",
        "\n",
        "def bfs(start):\n",
        "    visited = []\n",
        "    queue = deque([start])\n",
        "    while queue:\n",
        "        node = queue.popleft()\n",
        "        if node not in visited:\n",
        "            visited.append(node)\n",
        "            queue.extend(graph[node])\n",
        "    return visited\n",
        "\n",
        "print(\"BFS Traversal:\", bfs('A'))\n",
        "\n",
        "def dfs(start, visited=None):\n",
        "    if visited is None:\n",
        "        visited = []\n",
        "    visited.append(start)\n",
        "    for neighbor in graph[start]:\n",
        "        if neighbor not in visited:\n",
        "            dfs(neighbor, visited)\n",
        "    return visited\n",
        "\n",
        "print(\"DFS Traversal:\", dfs('A'))"
      ],
      "metadata": {
        "colab": {
          "base_uri": "https://localhost:8080/"
        },
        "id": "Ahh_BOA32IqQ",
        "outputId": "14523caa-6320-4c75-c157-96c3dfbb0791"
      },
      "execution_count": 17,
      "outputs": [
        {
          "output_type": "stream",
          "name": "stdout",
          "text": [
            "BFS Traversal: ['A', 'B', 'C', 'D', 'E', 'F']\n",
            "DFS Traversal: ['A', 'B', 'D', 'E', 'F', 'C']\n"
          ]
        }
      ]
    },
    {
      "cell_type": "code",
      "source": [
        "# Task 3 - Line Plot using Matplotlib\n",
        "import matplotlib.pyplot as plt\n",
        "\n",
        "X = [2, 4, 6, 8, 10]\n",
        "Y = [1, 3, 5, 7, 9]\n",
        "\n",
        "plt.plot(Y, X)\n",
        "plt.title(\"Simple Line Plot\")\n",
        "plt.xlabel(\"X-axis\")\n",
        "plt.ylabel(\"Y-axis\")\n",
        "plt.grid(True)\n",
        "plt.show()"
      ],
      "metadata": {
        "colab": {
          "base_uri": "https://localhost:8080/",
          "height": 472
        },
        "id": "r_BTPG0x2TSi",
        "outputId": "87263669-349a-445d-c4d9-b44884db7b0a"
      },
      "execution_count": 18,
      "outputs": [
        {
          "output_type": "display_data",
          "data": {
            "text/plain": [
              "<Figure size 640x480 with 1 Axes>"
            ],
            "image/png": "[encoded data removed]"
          },
          "metadata": {}
        }
      ]
    },
    {
      "cell_type": "code",
      "source": [
        "# Task 4 - Water Jug Problem (BFS & DFS)\n",
        "from collections import deque\n",
        "import time\n",
        "\n",
        "def water_jug_bfs(jug1, jug2, target):\n",
        "    start_time = time.time()\n",
        "    visited = set()\n",
        "    queue = deque([(0, 0)])\n",
        "    while queue:\n",
        "        a, b = queue.popleft()\n",
        "        if (a, b) in visited:\n",
        "            continue\n",
        "        visited.add((a, b))\n",
        "        if a == target or b == target:\n",
        "            print(\"Solution Found:\", (a, b))\n",
        "            print(\"Steps Taken:\", len(visited))\n",
        "            print(\"Time Taken:\", time.time() - start_time)\n",
        "            return\n",
        "        queue.extend([\n",
        "            (jug1, b), (a, jug2), (0, b), (a, 0),\n",
        "            (a - min(a, jug2 - b), b + min(a, jug2 - b)),\n",
        "            (a + min(b, jug1 - a), b - min(b, jug1 - a))\n",
        "        ])\n",
        "    print(\"No solution found\")\n",
        "\n",
        "water_jug_bfs(4, 3, 2)\n",
        "\n",
        "visited = set()\n",
        "\n",
        "def water_jug_dfs(a, b, jug1, jug2, target):\n",
        "    # Base condition\n",
        "    if (a, b) in visited:\n",
        "        return False\n",
        "    print(f\"Visited state: ({a}, {b})\")\n",
        "    visited.add((a, b))\n",
        "\n",
        "    # If target is reached\n",
        "    if a == target or b == target:\n",
        "        print(\"Solution Found:\", (a, b))\n",
        "        return True\n",
        "\n",
        "    # Explore all possible moves (like BFS but recursively)\n",
        "    return (\n",
        "        water_jug_dfs(jug1, b, jug1, jug2, target) or # Fill Jug1\n",
        "        water_jug_dfs(a, jug2, jug1, jug2, target) or # Fill Jug2\n",
        "        water_jug_dfs(0, b, jug1, jug2, target) or # Empty Jug1\n",
        "        water_jug_dfs(a, 0, jug1, jug2, target) or # Empty Jug2\n",
        "        water_jug_dfs(a - min(a, jug2 - b), b + min(a, jug2 - b), jug1, jug2, target) or # Pour Jug1 -> Jug2\n",
        "        water_jug_dfs(a + min(b, jug1 - a), b - min(b, jug1 - a), jug1, jug2, target) # Pour Jug2 -> Jug1\n",
        "    )\n",
        "\n",
        "# Example usage:\n",
        "water_jug_dfs(0, 0, 4, 3, 2)"
      ],
      "metadata": {
        "colab": {
          "base_uri": "https://localhost:8080/"
        },
        "id": "s-veYdl62XFF",
        "outputId": "b5ba39c5-54ad-4b06-e3f2-53dec54164c6"
      },
      "execution_count": 19,
      "outputs": [
        {
          "output_type": "stream",
          "name": "stdout",
          "text": [
            "Solution Found: (4, 2)\n",
            "Steps Taken: 10\n",
            "Time Taken: 0.000118255615234375\n",
            "Visited state: (0, 0)\n",
            "Visited state: (4, 0)\n",
            "Visited state: (4, 3)\n",
            "Visited state: (0, 3)\n",
            "Visited state: (3, 0)\n",
            "Visited state: (3, 3)\n",
            "Visited state: (4, 2)\n",
            "Solution Found: (4, 2)\n"
          ]
        },
        {
          "output_type": "execute_result",
          "data": {
            "text/plain": [
              "True"
            ]
          },
          "metadata": {},
          "execution_count": 19
        }
      ]
    },
    {
      "cell_type": "code",
      "source": [
        "# Task 5 - Maze Pathfinding using A* Algorithm\n",
        "from queue import PriorityQueue\n",
        "\n",
        "# 0 = open path, 1 = wall\n",
        "# Maze based on your image (6x6 grid)\n",
        "maze = [\n",
        "    [0, 1, 0, 0, 0, 0],  # Row 0: A (0,0)\n",
        "    [0, 1, 0, 0, 0, 0],\n",
        "    [0, 0, 0, 1, 0, 0],\n",
        "    [0, 0, 1, 0, 0, 0],\n",
        "    [0, 0, 1, 0, 0, 0],\n",
        "    [0, 0, 0, 0, 0, 0]   # Row 5: Y (5,5)\n",
        "]\n",
        "\n",
        "start = (0, 0)  # A\n",
        "goal = (5, 5)   # Y\n",
        "\n",
        "# Heuristic function (Manhattan distance)\n",
        "def heuristic(a, b):\n",
        "    return abs(a[0] - b[0]) + abs(a[1] - b[1])\n",
        "\n",
        "def a_star(maze, start, goal):\n",
        "    rows, cols = len(maze), len(maze[0])\n",
        "    open_set = PriorityQueue()\n",
        "    open_set.put((0, start))\n",
        "    came_from = {}\n",
        "    g_score = {start: 0}\n",
        "\n",
        "    while not open_set.empty():\n",
        "        current = open_set.get()[1]\n",
        "        if current == goal:\n",
        "            # Reconstruct path\n",
        "            path = []\n",
        "            while current in came_from:\n",
        "                path.append(current)\n",
        "                current = came_from[current]\n",
        "            path.append(start)\n",
        "            path.reverse()\n",
        "            return path\n",
        "\n",
        "        for dx, dy in [(0,1), (1,0), (-1,0), (0,-1)]:  # Right, Down, Up, Left\n",
        "            neighbor = (current[0] + dx, current[1] + dy)\n",
        "            if 0 <= neighbor[0] < rows and 0 <= neighbor[1] < cols and maze[neighbor[0]][neighbor[1]] == 0:\n",
        "                temp_g = g_score[current] + 1\n",
        "                if neighbor not in g_score or temp_g < g_score[neighbor]:\n",
        "                    g_score[neighbor] = temp_g\n",
        "                    f_score = temp_g + heuristic(neighbor, goal)\n",
        "                    open_set.put((f_score, neighbor))\n",
        "                    came_from[neighbor] = current\n",
        "    return None\n",
        "\n",
        "path = a_star(maze, start, goal)\n",
        "print(\"Shortest Path Found by A*:\", path)"
      ],
      "metadata": {
        "colab": {
          "base_uri": "https://localhost:8080/"
        },
        "id": "cknNol6I2bru",
        "outputId": "2358c5da-51bd-4f46-e484-42945ab25553"
      },
      "execution_count": 20,
      "outputs": [
        {
          "output_type": "stream",
          "name": "stdout",
          "text": [
            "Shortest Path Found by A*: [(0, 0), (1, 0), (2, 0), (2, 1), (3, 1), (4, 1), (5, 1), (5, 2), (5, 3), (5, 4), (5, 5)]\n"
          ]
        }
      ]
    }
  ]
}